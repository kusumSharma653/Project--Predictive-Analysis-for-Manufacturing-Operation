{
 "cells": [
  {
   "cell_type": "code",
   "execution_count": 2,
   "metadata": {},
   "outputs": [],
   "source": [
    "import pandas as pd \n",
    "from sklearn.compose import ColumnTransformer\n",
    "from sklearn.preprocessing import OneHotEncoder\n",
    "from sklearn.preprocessing import RobustScaler\n",
    "from sklearn.pipeline import Pipeline\n",
    "from sklearn.impute import SimpleImputer\n",
    "from sklearn.preprocessing import PowerTransformer\n",
    "from sklearn.feature_selection import SelectKBest, f_classif\n",
    "from sklearn.tree import DecisionTreeClassifier"
   ]
  },
  {
   "cell_type": "code",
   "execution_count": 3,
   "metadata": {},
   "outputs": [
    {
     "data": {
      "text/html": [
       "<div>\n",
       "<style scoped>\n",
       "    .dataframe tbody tr th:only-of-type {\n",
       "        vertical-align: middle;\n",
       "    }\n",
       "\n",
       "    .dataframe tbody tr th {\n",
       "        vertical-align: top;\n",
       "    }\n",
       "\n",
       "    .dataframe thead th {\n",
       "        text-align: right;\n",
       "    }\n",
       "</style>\n",
       "<table border=\"1\" class=\"dataframe\">\n",
       "  <thead>\n",
       "    <tr style=\"text-align: right;\">\n",
       "      <th></th>\n",
       "      <th>Assembly_Line_No</th>\n",
       "      <th>Hydraulic_Pressure(bar)</th>\n",
       "      <th>Coolant_Pressure(bar)</th>\n",
       "      <th>Air_System_Pressure(bar)</th>\n",
       "      <th>Coolant_Temperature</th>\n",
       "      <th>Hydraulic_Oil_Temperature(?C)</th>\n",
       "      <th>Spindle_Bearing_Temperature(?C)</th>\n",
       "      <th>Spindle_Vibration(?m)</th>\n",
       "      <th>Tool_Vibration(?m)</th>\n",
       "      <th>Spindle_Speed(RPM)</th>\n",
       "      <th>Voltage(volts)</th>\n",
       "      <th>Torque(Nm)</th>\n",
       "      <th>Cutting(kN)</th>\n",
       "      <th>Downtime</th>\n",
       "    </tr>\n",
       "  </thead>\n",
       "  <tbody>\n",
       "    <tr>\n",
       "      <th>0</th>\n",
       "      <td>Shopfloor-L1</td>\n",
       "      <td>71.04</td>\n",
       "      <td>6.933725</td>\n",
       "      <td>6.284965</td>\n",
       "      <td>25.6</td>\n",
       "      <td>46.0</td>\n",
       "      <td>33.4</td>\n",
       "      <td>1.291</td>\n",
       "      <td>26.492</td>\n",
       "      <td>25892.0</td>\n",
       "      <td>335.0</td>\n",
       "      <td>24.055326</td>\n",
       "      <td>3.58</td>\n",
       "      <td>0</td>\n",
       "    </tr>\n",
       "    <tr>\n",
       "      <th>1</th>\n",
       "      <td>Shopfloor-L1</td>\n",
       "      <td>125.33</td>\n",
       "      <td>4.936892</td>\n",
       "      <td>6.196733</td>\n",
       "      <td>35.3</td>\n",
       "      <td>47.4</td>\n",
       "      <td>34.6</td>\n",
       "      <td>1.382</td>\n",
       "      <td>25.274</td>\n",
       "      <td>19856.0</td>\n",
       "      <td>368.0</td>\n",
       "      <td>14.202890</td>\n",
       "      <td>2.68</td>\n",
       "      <td>0</td>\n",
       "    </tr>\n",
       "    <tr>\n",
       "      <th>2</th>\n",
       "      <td>Shopfloor-L3</td>\n",
       "      <td>71.12</td>\n",
       "      <td>6.839413</td>\n",
       "      <td>6.655448</td>\n",
       "      <td>13.1</td>\n",
       "      <td>40.7</td>\n",
       "      <td>33.0</td>\n",
       "      <td>1.319</td>\n",
       "      <td>30.608</td>\n",
       "      <td>19851.0</td>\n",
       "      <td>325.0</td>\n",
       "      <td>24.049267</td>\n",
       "      <td>3.55</td>\n",
       "      <td>0</td>\n",
       "    </tr>\n",
       "    <tr>\n",
       "      <th>3</th>\n",
       "      <td>Shopfloor-L2</td>\n",
       "      <td>139.34</td>\n",
       "      <td>4.574382</td>\n",
       "      <td>6.560394</td>\n",
       "      <td>24.4</td>\n",
       "      <td>44.2</td>\n",
       "      <td>40.6</td>\n",
       "      <td>0.618</td>\n",
       "      <td>30.791</td>\n",
       "      <td>18461.0</td>\n",
       "      <td>360.0</td>\n",
       "      <td>25.860029</td>\n",
       "      <td>3.55</td>\n",
       "      <td>0</td>\n",
       "    </tr>\n",
       "    <tr>\n",
       "      <th>4</th>\n",
       "      <td>Shopfloor-L1</td>\n",
       "      <td>60.51</td>\n",
       "      <td>6.893182</td>\n",
       "      <td>6.141238</td>\n",
       "      <td>4.1</td>\n",
       "      <td>47.3</td>\n",
       "      <td>31.4</td>\n",
       "      <td>0.983</td>\n",
       "      <td>25.516</td>\n",
       "      <td>26526.0</td>\n",
       "      <td>354.0</td>\n",
       "      <td>25.515874</td>\n",
       "      <td>3.55</td>\n",
       "      <td>0</td>\n",
       "    </tr>\n",
       "  </tbody>\n",
       "</table>\n",
       "</div>"
      ],
      "text/plain": [
       "  Assembly_Line_No  Hydraulic_Pressure(bar)  Coolant_Pressure(bar)  \\\n",
       "0     Shopfloor-L1                    71.04               6.933725   \n",
       "1     Shopfloor-L1                   125.33               4.936892   \n",
       "2     Shopfloor-L3                    71.12               6.839413   \n",
       "3     Shopfloor-L2                   139.34               4.574382   \n",
       "4     Shopfloor-L1                    60.51               6.893182   \n",
       "\n",
       "   Air_System_Pressure(bar)  Coolant_Temperature  \\\n",
       "0                  6.284965                 25.6   \n",
       "1                  6.196733                 35.3   \n",
       "2                  6.655448                 13.1   \n",
       "3                  6.560394                 24.4   \n",
       "4                  6.141238                  4.1   \n",
       "\n",
       "   Hydraulic_Oil_Temperature(?C)  Spindle_Bearing_Temperature(?C)  \\\n",
       "0                           46.0                             33.4   \n",
       "1                           47.4                             34.6   \n",
       "2                           40.7                             33.0   \n",
       "3                           44.2                             40.6   \n",
       "4                           47.3                             31.4   \n",
       "\n",
       "   Spindle_Vibration(?m)  Tool_Vibration(?m)  Spindle_Speed(RPM)  \\\n",
       "0                  1.291              26.492             25892.0   \n",
       "1                  1.382              25.274             19856.0   \n",
       "2                  1.319              30.608             19851.0   \n",
       "3                  0.618              30.791             18461.0   \n",
       "4                  0.983              25.516             26526.0   \n",
       "\n",
       "   Voltage(volts)  Torque(Nm)  Cutting(kN)  Downtime  \n",
       "0           335.0   24.055326         3.58         0  \n",
       "1           368.0   14.202890         2.68         0  \n",
       "2           325.0   24.049267         3.55         0  \n",
       "3           360.0   25.860029         3.55         0  \n",
       "4           354.0   25.515874         3.55         0  "
      ]
     },
     "execution_count": 3,
     "metadata": {},
     "output_type": "execute_result"
    }
   ],
   "source": [
    "df = pd.read_csv(\"../Data/processed_data.csv\")\n",
    "df.head()"
   ]
  },
  {
   "cell_type": "code",
   "execution_count": 4,
   "metadata": {},
   "outputs": [
    {
     "data": {
      "text/html": [
       "<div>\n",
       "<style scoped>\n",
       "    .dataframe tbody tr th:only-of-type {\n",
       "        vertical-align: middle;\n",
       "    }\n",
       "\n",
       "    .dataframe tbody tr th {\n",
       "        vertical-align: top;\n",
       "    }\n",
       "\n",
       "    .dataframe thead th {\n",
       "        text-align: right;\n",
       "    }\n",
       "</style>\n",
       "<table border=\"1\" class=\"dataframe\">\n",
       "  <thead>\n",
       "    <tr style=\"text-align: right;\">\n",
       "      <th></th>\n",
       "      <th>Assembly_Line_No</th>\n",
       "      <th>Hydraulic_Pressure(bar)</th>\n",
       "      <th>Coolant_Pressure(bar)</th>\n",
       "      <th>Air_System_Pressure(bar)</th>\n",
       "      <th>Coolant_Temperature</th>\n",
       "      <th>Hydraulic_Oil_Temperature(?C)</th>\n",
       "      <th>Spindle_Bearing_Temperature(?C)</th>\n",
       "      <th>Spindle_Vibration(?m)</th>\n",
       "      <th>Tool_Vibration(?m)</th>\n",
       "      <th>Spindle_Speed(RPM)</th>\n",
       "      <th>Voltage(volts)</th>\n",
       "      <th>Torque(Nm)</th>\n",
       "      <th>Cutting(kN)</th>\n",
       "      <th>Downtime</th>\n",
       "    </tr>\n",
       "  </thead>\n",
       "  <tbody>\n",
       "    <tr>\n",
       "      <th>0</th>\n",
       "      <td>Shopfloor-L1</td>\n",
       "      <td>71.04</td>\n",
       "      <td>6.933725</td>\n",
       "      <td>6.284965</td>\n",
       "      <td>25.6</td>\n",
       "      <td>46.0</td>\n",
       "      <td>33.4</td>\n",
       "      <td>1.291</td>\n",
       "      <td>26.492</td>\n",
       "      <td>25892.0</td>\n",
       "      <td>335.0</td>\n",
       "      <td>24.055326</td>\n",
       "      <td>3.58</td>\n",
       "      <td>0</td>\n",
       "    </tr>\n",
       "    <tr>\n",
       "      <th>1</th>\n",
       "      <td>Shopfloor-L1</td>\n",
       "      <td>125.33</td>\n",
       "      <td>4.936892</td>\n",
       "      <td>6.196733</td>\n",
       "      <td>35.3</td>\n",
       "      <td>47.4</td>\n",
       "      <td>34.6</td>\n",
       "      <td>1.382</td>\n",
       "      <td>25.274</td>\n",
       "      <td>19856.0</td>\n",
       "      <td>368.0</td>\n",
       "      <td>14.202890</td>\n",
       "      <td>2.68</td>\n",
       "      <td>0</td>\n",
       "    </tr>\n",
       "    <tr>\n",
       "      <th>2</th>\n",
       "      <td>Shopfloor-L3</td>\n",
       "      <td>71.12</td>\n",
       "      <td>6.839413</td>\n",
       "      <td>6.655448</td>\n",
       "      <td>13.1</td>\n",
       "      <td>40.7</td>\n",
       "      <td>33.0</td>\n",
       "      <td>1.319</td>\n",
       "      <td>30.608</td>\n",
       "      <td>19851.0</td>\n",
       "      <td>325.0</td>\n",
       "      <td>24.049267</td>\n",
       "      <td>3.55</td>\n",
       "      <td>0</td>\n",
       "    </tr>\n",
       "    <tr>\n",
       "      <th>3</th>\n",
       "      <td>Shopfloor-L2</td>\n",
       "      <td>139.34</td>\n",
       "      <td>4.574382</td>\n",
       "      <td>6.560394</td>\n",
       "      <td>24.4</td>\n",
       "      <td>44.2</td>\n",
       "      <td>40.6</td>\n",
       "      <td>0.618</td>\n",
       "      <td>30.791</td>\n",
       "      <td>18461.0</td>\n",
       "      <td>360.0</td>\n",
       "      <td>25.860029</td>\n",
       "      <td>3.55</td>\n",
       "      <td>0</td>\n",
       "    </tr>\n",
       "    <tr>\n",
       "      <th>4</th>\n",
       "      <td>Shopfloor-L1</td>\n",
       "      <td>60.51</td>\n",
       "      <td>6.893182</td>\n",
       "      <td>6.141238</td>\n",
       "      <td>4.1</td>\n",
       "      <td>47.3</td>\n",
       "      <td>31.4</td>\n",
       "      <td>0.983</td>\n",
       "      <td>25.516</td>\n",
       "      <td>26526.0</td>\n",
       "      <td>354.0</td>\n",
       "      <td>25.515874</td>\n",
       "      <td>3.55</td>\n",
       "      <td>0</td>\n",
       "    </tr>\n",
       "  </tbody>\n",
       "</table>\n",
       "</div>"
      ],
      "text/plain": [
       "  Assembly_Line_No  Hydraulic_Pressure(bar)  Coolant_Pressure(bar)  \\\n",
       "0     Shopfloor-L1                    71.04               6.933725   \n",
       "1     Shopfloor-L1                   125.33               4.936892   \n",
       "2     Shopfloor-L3                    71.12               6.839413   \n",
       "3     Shopfloor-L2                   139.34               4.574382   \n",
       "4     Shopfloor-L1                    60.51               6.893182   \n",
       "\n",
       "   Air_System_Pressure(bar)  Coolant_Temperature  \\\n",
       "0                  6.284965                 25.6   \n",
       "1                  6.196733                 35.3   \n",
       "2                  6.655448                 13.1   \n",
       "3                  6.560394                 24.4   \n",
       "4                  6.141238                  4.1   \n",
       "\n",
       "   Hydraulic_Oil_Temperature(?C)  Spindle_Bearing_Temperature(?C)  \\\n",
       "0                           46.0                             33.4   \n",
       "1                           47.4                             34.6   \n",
       "2                           40.7                             33.0   \n",
       "3                           44.2                             40.6   \n",
       "4                           47.3                             31.4   \n",
       "\n",
       "   Spindle_Vibration(?m)  Tool_Vibration(?m)  Spindle_Speed(RPM)  \\\n",
       "0                  1.291              26.492             25892.0   \n",
       "1                  1.382              25.274             19856.0   \n",
       "2                  1.319              30.608             19851.0   \n",
       "3                  0.618              30.791             18461.0   \n",
       "4                  0.983              25.516             26526.0   \n",
       "\n",
       "   Voltage(volts)  Torque(Nm)  Cutting(kN)  Downtime  \n",
       "0           335.0   24.055326         3.58         0  \n",
       "1           368.0   14.202890         2.68         0  \n",
       "2           325.0   24.049267         3.55         0  \n",
       "3           360.0   25.860029         3.55         0  \n",
       "4           354.0   25.515874         3.55         0  "
      ]
     },
     "execution_count": 4,
     "metadata": {},
     "output_type": "execute_result"
    }
   ],
   "source": [
    "df.head()"
   ]
  },
  {
   "cell_type": "code",
   "execution_count": 5,
   "metadata": {},
   "outputs": [],
   "source": [
    "features=[\"Torque(Nm)\",\"Hydraulic_Pressure(bar)\",\"Cutting(kN)\",\n",
    "          \"Coolant_Pressure(bar)\",\"Spindle_Speed(RPM)\",\"Coolant_Temperature\"]"
   ]
  },
  {
   "cell_type": "code",
   "execution_count": 6,
   "metadata": {},
   "outputs": [],
   "source": [
    "from sklearn.model_selection import train_test_split\n",
    "X_train,X_test,y_train,y_test = train_test_split(df[features],df[\"Downtime\"],test_size=0.3,random_state =0)"
   ]
  },
  {
   "cell_type": "code",
   "execution_count": 7,
   "metadata": {},
   "outputs": [
    {
     "data": {
      "text/html": [
       "<div>\n",
       "<style scoped>\n",
       "    .dataframe tbody tr th:only-of-type {\n",
       "        vertical-align: middle;\n",
       "    }\n",
       "\n",
       "    .dataframe tbody tr th {\n",
       "        vertical-align: top;\n",
       "    }\n",
       "\n",
       "    .dataframe thead th {\n",
       "        text-align: right;\n",
       "    }\n",
       "</style>\n",
       "<table border=\"1\" class=\"dataframe\">\n",
       "  <thead>\n",
       "    <tr style=\"text-align: right;\">\n",
       "      <th></th>\n",
       "      <th>Torque(Nm)</th>\n",
       "      <th>Hydraulic_Pressure(bar)</th>\n",
       "      <th>Cutting(kN)</th>\n",
       "      <th>Coolant_Pressure(bar)</th>\n",
       "      <th>Spindle_Speed(RPM)</th>\n",
       "      <th>Coolant_Temperature</th>\n",
       "    </tr>\n",
       "  </thead>\n",
       "  <tbody>\n",
       "    <tr>\n",
       "      <th>1988</th>\n",
       "      <td>32.720445</td>\n",
       "      <td>89.458747</td>\n",
       "      <td>2.11</td>\n",
       "      <td>5.177201</td>\n",
       "      <td>20809.0</td>\n",
       "      <td>12.2</td>\n",
       "    </tr>\n",
       "    <tr>\n",
       "      <th>1969</th>\n",
       "      <td>16.449554</td>\n",
       "      <td>70.830000</td>\n",
       "      <td>2.87</td>\n",
       "      <td>4.801531</td>\n",
       "      <td>19352.0</td>\n",
       "      <td>26.1</td>\n",
       "    </tr>\n",
       "    <tr>\n",
       "      <th>1368</th>\n",
       "      <td>14.202890</td>\n",
       "      <td>62.700000</td>\n",
       "      <td>2.57</td>\n",
       "      <td>4.406872</td>\n",
       "      <td>17919.0</td>\n",
       "      <td>28.7</td>\n",
       "    </tr>\n",
       "    <tr>\n",
       "      <th>840</th>\n",
       "      <td>19.004100</td>\n",
       "      <td>82.968808</td>\n",
       "      <td>3.00</td>\n",
       "      <td>6.823142</td>\n",
       "      <td>25121.0</td>\n",
       "      <td>33.6</td>\n",
       "    </tr>\n",
       "    <tr>\n",
       "      <th>2214</th>\n",
       "      <td>27.185354</td>\n",
       "      <td>71.960000</td>\n",
       "      <td>3.67</td>\n",
       "      <td>6.863944</td>\n",
       "      <td>17561.0</td>\n",
       "      <td>26.4</td>\n",
       "    </tr>\n",
       "  </tbody>\n",
       "</table>\n",
       "</div>"
      ],
      "text/plain": [
       "      Torque(Nm)  Hydraulic_Pressure(bar)  Cutting(kN)  Coolant_Pressure(bar)  \\\n",
       "1988   32.720445                89.458747         2.11               5.177201   \n",
       "1969   16.449554                70.830000         2.87               4.801531   \n",
       "1368   14.202890                62.700000         2.57               4.406872   \n",
       "840    19.004100                82.968808         3.00               6.823142   \n",
       "2214   27.185354                71.960000         3.67               6.863944   \n",
       "\n",
       "      Spindle_Speed(RPM)  Coolant_Temperature  \n",
       "1988             20809.0                 12.2  \n",
       "1969             19352.0                 26.1  \n",
       "1368             17919.0                 28.7  \n",
       "840              25121.0                 33.6  \n",
       "2214             17561.0                 26.4  "
      ]
     },
     "execution_count": 7,
     "metadata": {},
     "output_type": "execute_result"
    }
   ],
   "source": [
    "X_train.head()"
   ]
  },
  {
   "cell_type": "code",
   "execution_count": 8,
   "metadata": {},
   "outputs": [
    {
     "data": {
      "text/plain": [
       "1988    1\n",
       "1969    0\n",
       "1368    0\n",
       "840     1\n",
       "2214    0\n",
       "Name: Downtime, dtype: int64"
      ]
     },
     "execution_count": 8,
     "metadata": {},
     "output_type": "execute_result"
    }
   ],
   "source": [
    "y_train.head()"
   ]
  },
  {
   "cell_type": "code",
   "execution_count": 9,
   "metadata": {},
   "outputs": [],
   "source": [
    "# Simple imputer\n",
    "trf1 =  ColumnTransformer(transformers=[('mean_imputer',SimpleImputer(strategy='mean'),[0,1,2,3,4,5])],remainder='passthrough')"
   ]
  },
  {
   "cell_type": "code",
   "execution_count": 10,
   "metadata": {},
   "outputs": [],
   "source": [
    "# Scaling\n",
    "trf2 = ColumnTransformer(transformers=[('scale',RobustScaler(),[0,1,2,3,4,5])])\n"
   ]
  },
  {
   "cell_type": "code",
   "execution_count": 11,
   "metadata": {},
   "outputs": [],
   "source": [
    "#pipeline\n",
    "pipe = Pipeline([('trf1',trf1),('trf2',trf2)])"
   ]
  },
  {
   "cell_type": "code",
   "execution_count": 12,
   "metadata": {},
   "outputs": [],
   "source": [
    "X_train_processed = pipe.fit_transform(X_train)\n",
    "X_test_processed = pipe.transform(X_test)"
   ]
  },
  {
   "cell_type": "code",
   "execution_count": 13,
   "metadata": {},
   "outputs": [
    {
     "data": {
      "text/plain": [
       "(1750, 6)"
      ]
     },
     "execution_count": 13,
     "metadata": {},
     "output_type": "execute_result"
    }
   ],
   "source": [
    "X_train_processed.shape"
   ]
  },
  {
   "cell_type": "code",
   "execution_count": 14,
   "metadata": {},
   "outputs": [],
   "source": [
    "from sklearn.metrics import accuracy_score, confusion_matrix\n",
    "from sklearn.linear_model import LogisticRegression\n",
    "from sklearn.tree import DecisionTreeClassifier\n",
    "from sklearn.ensemble import RandomForestClassifier\n",
    "from sklearn.svm import SVC\n",
    "from sklearn.neighbors import KNeighborsClassifier"
   ]
  },
  {
   "cell_type": "code",
   "execution_count": 15,
   "metadata": {},
   "outputs": [
    {
     "name": "stdout",
     "output_type": "stream",
     "text": [
      "Logistic Regression\n",
      "Accuracy: 0.8693333333333333\n",
      "Confusion Matrix:\n",
      " [[323  60]\n",
      " [ 38 329]]\n"
     ]
    }
   ],
   "source": [
    "# Initialize and train the Logistic Regression model\n",
    "log_reg = LogisticRegression(max_iter=200)\n",
    "log_reg.fit(X_train_processed, y_train)\n",
    "\n",
    "# Make predictions\n",
    "y_pred = log_reg.predict(X_test_processed)\n",
    "\n",
    "# Evaluate the model\n",
    "print(\"Logistic Regression\")\n",
    "print(\"Accuracy:\", accuracy_score(y_test, y_pred))\n",
    "print(\"Confusion Matrix:\\n\", confusion_matrix(y_test, y_pred))"
   ]
  },
  {
   "cell_type": "code",
   "execution_count": 16,
   "metadata": {},
   "outputs": [
    {
     "name": "stdout",
     "output_type": "stream",
     "text": [
      "Decision Tree\n",
      "Accuracy: 0.984\n",
      "Confusion Matrix:\n",
      " [[375   8]\n",
      " [  4 363]]\n"
     ]
    }
   ],
   "source": [
    "# Initialize and train the Decision Tree model\n",
    "decision_tree = DecisionTreeClassifier(max_depth=100,random_state=42)\n",
    "decision_tree.fit(X_train_processed, y_train)\n",
    "\n",
    "# Make predictions\n",
    "y_pred = decision_tree.predict(X_test_processed)\n",
    "\n",
    "# Evaluate the model\n",
    "print(\"Decision Tree\")\n",
    "print(\"Accuracy:\", accuracy_score(y_test, y_pred))\n",
    "print(\"Confusion Matrix:\\n\", confusion_matrix(y_test, y_pred))"
   ]
  },
  {
   "cell_type": "code",
   "execution_count": 17,
   "metadata": {},
   "outputs": [
    {
     "name": "stdout",
     "output_type": "stream",
     "text": [
      "Random Forest\n",
      "Random Forest Accuracy: 0.988\n",
      "Accuracy: 0.988\n",
      "Confusion Matrix:\n",
      " [[374   9]\n",
      " [  0 367]]\n"
     ]
    }
   ],
   "source": [
    "# Initialize and train the Random Forest model\n",
    "random_forest = RandomForestClassifier(n_estimators=200, random_state=42)\n",
    "random_forest.fit(X_train_processed, y_train)\n",
    "\n",
    "# Make predictions\n",
    "y_pred = random_forest.predict(X_test_processed)\n",
    "\n",
    "# Evaluate the model\n",
    "print(\"Random Forest\")\n",
    "print(\"Random Forest Accuracy:\", random_forest.score(X_test_processed, y_test))\n",
    "print(\"Accuracy:\", accuracy_score(y_test, y_pred))\n",
    "print(\"Confusion Matrix:\\n\", confusion_matrix(y_test, y_pred))"
   ]
  },
  {
   "cell_type": "code",
   "execution_count": 18,
   "metadata": {},
   "outputs": [
    {
     "name": "stdout",
     "output_type": "stream",
     "text": [
      "Support Vector Machine\n",
      "Accuracy: 0.9533333333333334\n",
      "Confusion Matrix:\n",
      " [[359  24]\n",
      " [ 11 356]]\n"
     ]
    }
   ],
   "source": [
    "# Initialize and train the SVM model\n",
    "svm_model = SVC(kernel='rbf', C=1, gamma=0.5)\n",
    "svm_model.fit(X_train_processed, y_train)\n",
    "\n",
    "# Make predictions\n",
    "y_pred = svm_model.predict(X_test_processed)\n",
    "\n",
    "# Evaluate the model\n",
    "print(\"Support Vector Machine\")\n",
    "print(\"Accuracy:\", accuracy_score(y_test, y_pred))\n",
    "print(\"Confusion Matrix:\\n\", confusion_matrix(y_test, y_pred))"
   ]
  },
  {
   "cell_type": "code",
   "execution_count": 19,
   "metadata": {},
   "outputs": [
    {
     "name": "stdout",
     "output_type": "stream",
     "text": [
      "K-Nearest Neighbors\n",
      "Accuracy: 0.9613333333333334\n",
      "Confusion Matrix:\n",
      " [[363  20]\n",
      " [  9 358]]\n"
     ]
    }
   ],
   "source": [
    "# Initialize and train the KNN model\n",
    "knn = KNeighborsClassifier(n_neighbors=5)\n",
    "knn.fit(X_train_processed, y_train)\n",
    "\n",
    "# Make predictions\n",
    "y_pred = knn.predict(X_test_processed)\n",
    "\n",
    "# Evaluate the model\n",
    "print(\"K-Nearest Neighbors\")\n",
    "print(\"Accuracy:\", accuracy_score(y_test, y_pred))\n",
    "print(\"Confusion Matrix:\\n\", confusion_matrix(y_test, y_pred))"
   ]
  },
  {
   "cell_type": "code",
   "execution_count": 20,
   "metadata": {},
   "outputs": [],
   "source": [
    "from sklearn.model_selection import cross_val_score\n",
    "from sklearn.ensemble import VotingClassifier\n",
    "import numpy as np"
   ]
  },
  {
   "cell_type": "code",
   "execution_count": 21,
   "metadata": {},
   "outputs": [
    {
     "name": "stdout",
     "output_type": "stream",
     "text": [
      "Logistic Regression : 0.86\n",
      "Random Forest : 0.98\n",
      "KNN : 0.96\n",
      "SVC : 0.96\n",
      "Decision Tree : 0.95\n"
     ]
    }
   ],
   "source": [
    "# Ensemble Learning\n",
    "estimators = [('Logistic Regression',log_reg),('Random Forest',random_forest),('KNN',knn),('SVC',svm_model),('Decision Tree',decision_tree)]\n",
    "for estimator in estimators:\n",
    "    x = cross_val_score(estimator[1],X_test_processed,y_test,cv=10,scoring='accuracy')\n",
    "    print(estimator[0],\":\",np.round(np.mean(x),2))\n"
   ]
  },
  {
   "cell_type": "code",
   "execution_count": 26,
   "metadata": {},
   "outputs": [
    {
     "name": "stdout",
     "output_type": "stream",
     "text": [
      "Validation accuracy for soft voting classifier 0.97\n"
     ]
    }
   ],
   "source": [
    "vc = VotingClassifier(estimators=estimators,voting='hard')\n",
    "#vc.fit(X_train_processed,y_train)\n",
    "x = cross_val_score(vc,X_test_processed,y_test,cv=10,scoring='accuracy')\n",
    "print(\"Validation accuracy for soft voting classifier\",np.round(np.mean(x),2))"
   ]
  },
  {
   "cell_type": "code",
   "execution_count": 27,
   "metadata": {},
   "outputs": [],
   "source": [
    "import pickle \n",
    "pickle.dump(pipe,open('preprocessing_pipeline.pkl','wb'))\n",
    "pickle.dump(vc,open('voting_classifier_model.pkl','wb'))"
   ]
  }
 ],
 "metadata": {
  "kernelspec": {
   "display_name": "Python 3",
   "language": "python",
   "name": "python3"
  },
  "language_info": {
   "codemirror_mode": {
    "name": "ipython",
    "version": 3
   },
   "file_extension": ".py",
   "mimetype": "text/x-python",
   "name": "python",
   "nbconvert_exporter": "python",
   "pygments_lexer": "ipython3",
   "version": "3.12.0"
  }
 },
 "nbformat": 4,
 "nbformat_minor": 2
}
