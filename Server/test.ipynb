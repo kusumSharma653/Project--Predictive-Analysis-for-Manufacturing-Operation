{
 "cells": [
  {
   "cell_type": "code",
   "execution_count": 5,
   "metadata": {},
   "outputs": [
    {
     "name": "stdout",
     "output_type": "stream",
     "text": [
      "c:\\Users\\Yash Dabral\\OneDrive\\Desktop\\Internship task\\Processing\\preprocessing_pipeline.pkl\n",
      "c:\\Users\\Yash Dabral\\OneDrive\\Desktop\\Internship task\\Processing\\voting_classifier_model.pkl\n"
     ]
    }
   ],
   "source": [
    "import os\n",
    "print(os.path.abspath(\"../Processing/preprocessing_pipeline.pkl\"))\n",
    "print(os.path.abspath(\"../Processing/voting_classifier_model.pkl\"))"
   ]
  },
  {
   "cell_type": "code",
   "execution_count": 6,
   "metadata": {},
   "outputs": [],
   "source": [
    "import pickle\n",
    "preprocessing_pipeline = pickle.load(open(\"C:/Users/Yash Dabral/OneDrive/Desktop/Internship task/Processing/preprocessing_pipeline.pkl\", 'rb'))\n",
    "model = pickle.load(open(\"C:/Users/Yash Dabral/OneDrive/Desktop/Internship task/Processing/voting_classifier_model.pkl\", 'rb'))\n",
    "\n"
   ]
  },
  {
   "cell_type": "code",
   "execution_count": 7,
   "metadata": {},
   "outputs": [
    {
     "data": {
      "text/plain": [
       "array([[10.5, 150.2, 85.3, 3.4, 1200, 45.5]], dtype=object)"
      ]
     },
     "execution_count": 7,
     "metadata": {},
     "output_type": "execute_result"
    }
   ],
   "source": [
    "import numpy as np\n",
    "test_input = np.array([10.5, 150.2, 85.3, 3.4, 1200, 45.5],dtype=object).reshape(1,6)\n",
    "test_input"
   ]
  },
  {
   "cell_type": "code",
   "execution_count": 8,
   "metadata": {},
   "outputs": [
    {
     "data": {
      "text/plain": [
       "array([0], dtype=int64)"
      ]
     },
     "execution_count": 8,
     "metadata": {},
     "output_type": "execute_result"
    }
   ],
   "source": [
    "model.predict(test_input)"
   ]
  }
 ],
 "metadata": {
  "kernelspec": {
   "display_name": "Python 3",
   "language": "python",
   "name": "python3"
  },
  "language_info": {
   "codemirror_mode": {
    "name": "ipython",
    "version": 3
   },
   "file_extension": ".py",
   "mimetype": "text/x-python",
   "name": "python",
   "nbconvert_exporter": "python",
   "pygments_lexer": "ipython3",
   "version": "3.12.0"
  }
 },
 "nbformat": 4,
 "nbformat_minor": 2
}
